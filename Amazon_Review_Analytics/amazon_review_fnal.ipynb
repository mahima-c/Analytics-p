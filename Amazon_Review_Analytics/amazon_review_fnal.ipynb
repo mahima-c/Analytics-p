{
  "nbformat": 4,
  "nbformat_minor": 0,
  "metadata": {
    "colab": {
      "name": "amazon_review_fnal.ipynb",
      "provenance": [],
      "collapsed_sections": [],
      "toc_visible": true
    },
    "kernelspec": {
      "name": "python3",
      "display_name": "Python 3"
    }
  },
  "cells": [
    {
      "cell_type": "code",
      "metadata": {
        "id": "exz4JM0LoIUj"
      },
      "source": [
        ""
      ],
      "execution_count": null,
      "outputs": []
    },
    {
      "cell_type": "markdown",
      "metadata": {
        "id": "ZCjRDXQxOSba"
      },
      "source": [
        "#<b>Amazon review data scrapping and analysis"
      ]
    },
    {
      "cell_type": "code",
      "metadata": {
        "id": "qCTOjxyROR4i"
      },
      "source": [
        "import requests\n",
        "from bs4 import BeautifulSoup"
      ],
      "execution_count": 1,
      "outputs": []
    },
    {
      "cell_type": "markdown",
      "metadata": {
        "id": "1FKC3dyNpHTS"
      },
      "source": [
        "## https://www.amazon.in/Nautica-Cruise-Nac-10-Stainless-Steel/product-reviews/B07ZPGTNRP/ref=cm_cr_dp_d_show_all_btm?ie=UTF8&reviewerType=all_reviews\n"
      ]
    },
    {
      "cell_type": "code",
      "metadata": {
        "id": "viLxk5kmoKpd"
      },
      "source": [
        "url2=\"https://www.amazon.in/Nautica-Cruise-Nac-10-Stainless-Steel/product-reviews/B07ZPGTNRP/ref=cm_cr_dp_d_show_all_btm?ie=UTF8&reviewerType=all_reviews\""
      ],
      "execution_count": 2,
      "outputs": []
    },
    {
      "cell_type": "code",
      "metadata": {
        "id": "n63KrLvWoTs3"
      },
      "source": [
        " headers={\"user-agent\":\"Mozilla/5.0 (Windows NT 10.0; Win64; x64) AppleWebKit/537.36 (KHTML, like Gecko) Chrome/83.0.4103.116 Safari/537.36\"}"
      ],
      "execution_count": 3,
      "outputs": []
    },
    {
      "cell_type": "code",
      "metadata": {
        "id": "cQId_ZshoVsJ"
      },
      "source": [
        "page=requests.get(url2,headers=headers)"
      ],
      "execution_count": 4,
      "outputs": []
    },
    {
      "cell_type": "code",
      "metadata": {
        "id": "4Q5mVCQxoXxb",
        "outputId": "e92da167-8681-478c-8b50-ca9b8037c1a6",
        "colab": {
          "base_uri": "https://localhost:8080/",
          "height": 34
        }
      },
      "source": [
        "page"
      ],
      "execution_count": 5,
      "outputs": [
        {
          "output_type": "execute_result",
          "data": {
            "text/plain": [
              "<Response [200]>"
            ]
          },
          "metadata": {
            "tags": []
          },
          "execution_count": 5
        }
      ]
    },
    {
      "cell_type": "code",
      "metadata": {
        "id": "3HJvZH5SoYeS"
      },
      "source": [
        "soup=BeautifulSoup(page.content,'html.parser')"
      ],
      "execution_count": 6,
      "outputs": []
    },
    {
      "cell_type": "code",
      "metadata": {
        "id": "kziMCQvJoapW",
        "outputId": "df653063-6b79-4b87-da8c-c6e3a4f467fb",
        "colab": {
          "base_uri": "https://localhost:8080/",
          "height": 102
        }
      },
      "source": [
        "# title of the page\n",
        "print(soup.title)\n",
        "\n",
        "# get attributes:\n",
        "print(soup.title.name)\n",
        "\n",
        "# get values:\n",
        "print(soup.title.string)\n",
        "\n",
        "# beginning navigation:\n",
        "print(soup.title.parent.name)\n",
        "\n",
        "# getting specific values:\n",
        "print(soup.p)"
      ],
      "execution_count": 7,
      "outputs": [
        {
          "output_type": "stream",
          "text": [
            "<title>Amazon.in:Customer reviews: NAUTICA Analog Silver Dial Men's Watch-NAPNAI805</title>\n",
            "title\n",
            "Amazon.in:Customer reviews: NAUTICA Analog Silver Dial Men's Watch-NAPNAI805\n",
            "meta\n",
            "<p class=\"nav_p nav-bold\"></p>\n"
          ],
          "name": "stdout"
        }
      ]
    },
    {
      "cell_type": "code",
      "metadata": {
        "id": "8bIbkAm6ocYl",
        "outputId": "e84879b2-3c82-4449-a56c-11b27c26a5c7",
        "colab": {
          "base_uri": "https://localhost:8080/",
          "height": 35
        }
      },
      "source": [
        "title = soup.find('span', { \"class\" : \"a-profile-name\"})\n",
        "title.get_text()"
      ],
      "execution_count": 8,
      "outputs": [
        {
          "output_type": "execute_result",
          "data": {
            "application/vnd.google.colaboratory.intrinsic+json": {
              "type": "string"
            },
            "text/plain": [
              "'Gregory'"
            ]
          },
          "metadata": {
            "tags": []
          },
          "execution_count": 8
        }
      ]
    },
    {
      "cell_type": "code",
      "metadata": {
        "id": "QPeaKoaboflK"
      },
      "source": [
        "import numpy as np \n",
        "import pandas as pd #"
      ],
      "execution_count": 9,
      "outputs": []
    },
    {
      "cell_type": "code",
      "metadata": {
        "id": "KYX2hw46Jl3c",
        "outputId": "7555a356-90cd-4a64-8499-afb147c9e068",
        "colab": {
          "base_uri": "https://localhost:8080/",
          "height": 377
        }
      },
      "source": [
        ""
      ],
      "execution_count": 10,
      "outputs": [
        {
          "output_type": "stream",
          "text": [
            "--2020-10-03 05:57:54--  https://www.dropbox.com/s/vp8mjd5tm1jexzo/data.csv\n",
            "Resolving www.dropbox.com (www.dropbox.com)... 162.125.9.1, 2620:100:601f:1::a27d:901\n",
            "Connecting to www.dropbox.com (www.dropbox.com)|162.125.9.1|:443... connected.\n",
            "HTTP request sent, awaiting response... 301 Moved Permanently\n",
            "Location: /s/raw/vp8mjd5tm1jexzo/data.csv [following]\n",
            "--2020-10-03 05:57:54--  https://www.dropbox.com/s/raw/vp8mjd5tm1jexzo/data.csv\n",
            "Reusing existing connection to www.dropbox.com:443.\n",
            "HTTP request sent, awaiting response... 302 Found\n",
            "Location: https://uc62897dcca83c3f4b9dad2ef619.dl.dropboxusercontent.com/cd/0/inline/BAjH2aR8tvuYnePMoyCdtIhuSAOkd6KLfYFgwyoegrSrCfEmwWDoAXU_uNZRd8Sc5uzVLyR2Vx5PEaAC07qkZ3xVhToDNlDnLPtDzjtwPdNQ70S1ABbI_WJSVjN2gaffP5s/file# [following]\n",
            "--2020-10-03 05:57:56--  https://uc62897dcca83c3f4b9dad2ef619.dl.dropboxusercontent.com/cd/0/inline/BAjH2aR8tvuYnePMoyCdtIhuSAOkd6KLfYFgwyoegrSrCfEmwWDoAXU_uNZRd8Sc5uzVLyR2Vx5PEaAC07qkZ3xVhToDNlDnLPtDzjtwPdNQ70S1ABbI_WJSVjN2gaffP5s/file\n",
            "Resolving uc62897dcca83c3f4b9dad2ef619.dl.dropboxusercontent.com (uc62897dcca83c3f4b9dad2ef619.dl.dropboxusercontent.com)... 162.125.5.15, 2620:100:601d:15::a27d:50f\n",
            "Connecting to uc62897dcca83c3f4b9dad2ef619.dl.dropboxusercontent.com (uc62897dcca83c3f4b9dad2ef619.dl.dropboxusercontent.com)|162.125.5.15|:443... connected.\n",
            "HTTP request sent, awaiting response... 200 OK\n",
            "Length: 14216 (14K) [text/plain]\n",
            "Saving to: ‘data.csv’\n",
            "\n",
            "data.csv            100%[===================>]  13.88K  --.-KB/s    in 0s      \n",
            "\n",
            "2020-10-03 05:57:57 (231 MB/s) - ‘data.csv’ saved [14216/14216]\n",
            "\n"
          ],
          "name": "stdout"
        }
      ]
    },
    {
      "cell_type": "code",
      "metadata": {
        "id": "MKjSfnL_Jtjt"
      },
      "source": [
        "data=pd.read_csv(\"/content/data.csv\")"
      ],
      "execution_count": 11,
      "outputs": []
    },
    {
      "cell_type": "code",
      "metadata": {
        "id": "bNbhVyMaKPDU",
        "outputId": "e753fac3-ebf1-4ebb-c3c5-6b6f532aa026",
        "colab": {
          "base_uri": "https://localhost:8080/",
          "height": 649
        }
      },
      "source": [
        "\n",
        "data.head()"
      ],
      "execution_count": 12,
      "outputs": [
        {
          "output_type": "execute_result",
          "data": {
            "text/html": [
              "<div>\n",
              "<style scoped>\n",
              "    .dataframe tbody tr th:only-of-type {\n",
              "        vertical-align: middle;\n",
              "    }\n",
              "\n",
              "    .dataframe tbody tr th {\n",
              "        vertical-align: top;\n",
              "    }\n",
              "\n",
              "    .dataframe thead th {\n",
              "        text-align: right;\n",
              "    }\n",
              "</style>\n",
              "<table border=\"1\" class=\"dataframe\">\n",
              "  <thead>\n",
              "    <tr style=\"text-align: right;\">\n",
              "      <th></th>\n",
              "      <th>title</th>\n",
              "      <th>content</th>\n",
              "      <th>date</th>\n",
              "      <th>variant</th>\n",
              "      <th>images</th>\n",
              "      <th>verified</th>\n",
              "      <th>author</th>\n",
              "      <th>rating</th>\n",
              "      <th>product</th>\n",
              "      <th>url</th>\n",
              "    </tr>\n",
              "  </thead>\n",
              "  <tbody>\n",
              "    <tr>\n",
              "      <th>0</th>\n",
              "      <td>Look just like the photo</td>\n",
              "      <td>I love the shoes they are true to size , I wea...</td>\n",
              "      <td>18 Sep 2018</td>\n",
              "      <td>Size: 8 Color: White/Metallic Silver/Dark Grey</td>\n",
              "      <td>https://images-na.ssl-images-amazon.com/images...</td>\n",
              "      <td>Yes</td>\n",
              "      <td>Diane Johnson</td>\n",
              "      <td>5.0</td>\n",
              "      <td>Nike Women's Reax Run 5 Running Shoes</td>\n",
              "      <td>https://www.amazon.com/Nike-Womens-Reax-Runnin...</td>\n",
              "    </tr>\n",
              "    <tr>\n",
              "      <th>1</th>\n",
              "      <td>After 20 returns</td>\n",
              "      <td>Just writing a rare review on these . I love N...</td>\n",
              "      <td>08 May 2019</td>\n",
              "      <td>Size: 10 Color: White/Metallic Silver/Dark Grey</td>\n",
              "      <td>https://images-na.ssl-images-amazon.com/images...</td>\n",
              "      <td>Yes</td>\n",
              "      <td>sherlain miranda</td>\n",
              "      <td>4.0</td>\n",
              "      <td>Nike Women's Reax Run 5 Running Shoes</td>\n",
              "      <td>https://www.amazon.com/Nike-Womens-Reax-Runnin...</td>\n",
              "    </tr>\n",
              "    <tr>\n",
              "      <th>2</th>\n",
              "      <td>Half size up :)</td>\n",
              "      <td>I have only run in them a couple of times, but...</td>\n",
              "      <td>14 Dec 2018</td>\n",
              "      <td>Size: 9.5 Color: White/Metallic Silver/Dark Grey</td>\n",
              "      <td>https://images-na.ssl-images-amazon.com/images...</td>\n",
              "      <td>Yes</td>\n",
              "      <td>Blondie</td>\n",
              "      <td>5.0</td>\n",
              "      <td>Nike Women's Reax Run 5 Running Shoes</td>\n",
              "      <td>https://www.amazon.com/Nike-Womens-Reax-Runnin...</td>\n",
              "    </tr>\n",
              "    <tr>\n",
              "      <th>3</th>\n",
              "      <td>Surprisingly comfortable</td>\n",
              "      <td>I have a very hard time finding shoes that are...</td>\n",
              "      <td>26 Aug 2018</td>\n",
              "      <td>Size: 8 Color: White/Metallic Silver/Dark Grey</td>\n",
              "      <td>NaN</td>\n",
              "      <td>Yes</td>\n",
              "      <td>E Diaz</td>\n",
              "      <td>5.0</td>\n",
              "      <td>Nike Women's Reax Run 5 Running Shoes</td>\n",
              "      <td>https://www.amazon.com/Nike-Womens-Reax-Runnin...</td>\n",
              "    </tr>\n",
              "    <tr>\n",
              "      <th>4</th>\n",
              "      <td>Cute and Stylish..</td>\n",
              "      <td>Great workout shoes. Very comfortable.</td>\n",
              "      <td>04 Sep 2017</td>\n",
              "      <td>NaN</td>\n",
              "      <td>https://images-na.ssl-images-amazon.com/images...</td>\n",
              "      <td>Yes</td>\n",
              "      <td>Angel Buchanan</td>\n",
              "      <td>5.0</td>\n",
              "      <td>Nike Women's Reax Run 5 Running Shoes</td>\n",
              "      <td>https://www.amazon.com/Nike-Womens-Reax-Runnin...</td>\n",
              "    </tr>\n",
              "  </tbody>\n",
              "</table>\n",
              "</div>"
            ],
            "text/plain": [
              "                      title  ...                                                url\n",
              "0  Look just like the photo  ...  https://www.amazon.com/Nike-Womens-Reax-Runnin...\n",
              "1          After 20 returns  ...  https://www.amazon.com/Nike-Womens-Reax-Runnin...\n",
              "2           Half size up :)  ...  https://www.amazon.com/Nike-Womens-Reax-Runnin...\n",
              "3  Surprisingly comfortable  ...  https://www.amazon.com/Nike-Womens-Reax-Runnin...\n",
              "4        Cute and Stylish..  ...  https://www.amazon.com/Nike-Womens-Reax-Runnin...\n",
              "\n",
              "[5 rows x 10 columns]"
            ]
          },
          "metadata": {
            "tags": []
          },
          "execution_count": 12
        }
      ]
    },
    {
      "cell_type": "code",
      "metadata": {
        "id": "O4E7RKWbNRPx",
        "outputId": "b8b40170-0cb3-4a8f-a279-94e133a5e487",
        "colab": {
          "base_uri": "https://localhost:8080/",
          "height": 204
        }
      },
      "source": [
        "data.isna().any()"
      ],
      "execution_count": 13,
      "outputs": [
        {
          "output_type": "execute_result",
          "data": {
            "text/plain": [
              "title       False\n",
              "content     False\n",
              "date        False\n",
              "variant      True\n",
              "images       True\n",
              "verified    False\n",
              "author      False\n",
              "rating      False\n",
              "product     False\n",
              "url         False\n",
              "dtype: bool"
            ]
          },
          "metadata": {
            "tags": []
          },
          "execution_count": 13
        }
      ]
    },
    {
      "cell_type": "code",
      "metadata": {
        "id": "kJ-CNMcbKQf7",
        "outputId": "7d0aaa2a-44d6-44fb-c800-d5d4daa96b68",
        "colab": {
          "base_uri": "https://localhost:8080/",
          "height": 34
        }
      },
      "source": [
        "len(data)"
      ],
      "execution_count": 14,
      "outputs": [
        {
          "output_type": "execute_result",
          "data": {
            "text/plain": [
              "20"
            ]
          },
          "metadata": {
            "tags": []
          },
          "execution_count": 14
        }
      ]
    },
    {
      "cell_type": "code",
      "metadata": {
        "id": "8t76sPEwOdHp",
        "outputId": "feb1b036-2d72-4d8e-f774-222a14317d32",
        "colab": {
          "base_uri": "https://localhost:8080/",
          "height": 297
        }
      },
      "source": [
        "data.describe()"
      ],
      "execution_count": 15,
      "outputs": [
        {
          "output_type": "execute_result",
          "data": {
            "text/html": [
              "<div>\n",
              "<style scoped>\n",
              "    .dataframe tbody tr th:only-of-type {\n",
              "        vertical-align: middle;\n",
              "    }\n",
              "\n",
              "    .dataframe tbody tr th {\n",
              "        vertical-align: top;\n",
              "    }\n",
              "\n",
              "    .dataframe thead th {\n",
              "        text-align: right;\n",
              "    }\n",
              "</style>\n",
              "<table border=\"1\" class=\"dataframe\">\n",
              "  <thead>\n",
              "    <tr style=\"text-align: right;\">\n",
              "      <th></th>\n",
              "      <th>rating</th>\n",
              "    </tr>\n",
              "  </thead>\n",
              "  <tbody>\n",
              "    <tr>\n",
              "      <th>count</th>\n",
              "      <td>20.000000</td>\n",
              "    </tr>\n",
              "    <tr>\n",
              "      <th>mean</th>\n",
              "      <td>4.200000</td>\n",
              "    </tr>\n",
              "    <tr>\n",
              "      <th>std</th>\n",
              "      <td>1.321881</td>\n",
              "    </tr>\n",
              "    <tr>\n",
              "      <th>min</th>\n",
              "      <td>1.000000</td>\n",
              "    </tr>\n",
              "    <tr>\n",
              "      <th>25%</th>\n",
              "      <td>3.750000</td>\n",
              "    </tr>\n",
              "    <tr>\n",
              "      <th>50%</th>\n",
              "      <td>5.000000</td>\n",
              "    </tr>\n",
              "    <tr>\n",
              "      <th>75%</th>\n",
              "      <td>5.000000</td>\n",
              "    </tr>\n",
              "    <tr>\n",
              "      <th>max</th>\n",
              "      <td>5.000000</td>\n",
              "    </tr>\n",
              "  </tbody>\n",
              "</table>\n",
              "</div>"
            ],
            "text/plain": [
              "          rating\n",
              "count  20.000000\n",
              "mean    4.200000\n",
              "std     1.321881\n",
              "min     1.000000\n",
              "25%     3.750000\n",
              "50%     5.000000\n",
              "75%     5.000000\n",
              "max     5.000000"
            ]
          },
          "metadata": {
            "tags": []
          },
          "execution_count": 15
        }
      ]
    },
    {
      "cell_type": "code",
      "metadata": {
        "id": "LQX1LO1tOkVb",
        "outputId": "aa20767d-c424-467c-8e8c-39173c84b347",
        "colab": {
          "base_uri": "https://localhost:8080/",
          "height": 68
        }
      },
      "source": [
        "data.columns"
      ],
      "execution_count": 16,
      "outputs": [
        {
          "output_type": "execute_result",
          "data": {
            "text/plain": [
              "Index(['title', 'content', 'date', 'variant', 'images', 'verified', 'author',\n",
              "       'rating', 'product', 'url'],\n",
              "      dtype='object')"
            ]
          },
          "metadata": {
            "tags": []
          },
          "execution_count": 16
        }
      ]
    },
    {
      "cell_type": "code",
      "metadata": {
        "id": "Y3oCjvZ4OnzX",
        "outputId": "ef4e6d7b-d0b4-4b3f-d4cb-97142e6534f9",
        "colab": {
          "base_uri": "https://localhost:8080/",
          "height": 34
        }
      },
      "source": [
        "data.shape"
      ],
      "execution_count": 17,
      "outputs": [
        {
          "output_type": "execute_result",
          "data": {
            "text/plain": [
              "(20, 10)"
            ]
          },
          "metadata": {
            "tags": []
          },
          "execution_count": 17
        }
      ]
    },
    {
      "cell_type": "code",
      "metadata": {
        "id": "jsmq9PAZOv10"
      },
      "source": [
        "null_columns=pd.DataFrame({'Columns':data.isna().sum().index,'No. Null values':data.isna().sum().values,'Percentage':data.isna().sum().values/data.shape[0]})"
      ],
      "execution_count": 18,
      "outputs": []
    },
    {
      "cell_type": "code",
      "metadata": {
        "id": "ZJjUacSqO4dV",
        "outputId": "98613b8d-40b7-4cba-ef0a-507eeb03d88c",
        "colab": {
          "base_uri": "https://localhost:8080/",
          "height": 359
        }
      },
      "source": [
        "null_columns"
      ],
      "execution_count": 19,
      "outputs": [
        {
          "output_type": "execute_result",
          "data": {
            "text/html": [
              "<div>\n",
              "<style scoped>\n",
              "    .dataframe tbody tr th:only-of-type {\n",
              "        vertical-align: middle;\n",
              "    }\n",
              "\n",
              "    .dataframe tbody tr th {\n",
              "        vertical-align: top;\n",
              "    }\n",
              "\n",
              "    .dataframe thead th {\n",
              "        text-align: right;\n",
              "    }\n",
              "</style>\n",
              "<table border=\"1\" class=\"dataframe\">\n",
              "  <thead>\n",
              "    <tr style=\"text-align: right;\">\n",
              "      <th></th>\n",
              "      <th>Columns</th>\n",
              "      <th>No. Null values</th>\n",
              "      <th>Percentage</th>\n",
              "    </tr>\n",
              "  </thead>\n",
              "  <tbody>\n",
              "    <tr>\n",
              "      <th>0</th>\n",
              "      <td>title</td>\n",
              "      <td>0</td>\n",
              "      <td>0.00</td>\n",
              "    </tr>\n",
              "    <tr>\n",
              "      <th>1</th>\n",
              "      <td>content</td>\n",
              "      <td>0</td>\n",
              "      <td>0.00</td>\n",
              "    </tr>\n",
              "    <tr>\n",
              "      <th>2</th>\n",
              "      <td>date</td>\n",
              "      <td>0</td>\n",
              "      <td>0.00</td>\n",
              "    </tr>\n",
              "    <tr>\n",
              "      <th>3</th>\n",
              "      <td>variant</td>\n",
              "      <td>9</td>\n",
              "      <td>0.45</td>\n",
              "    </tr>\n",
              "    <tr>\n",
              "      <th>4</th>\n",
              "      <td>images</td>\n",
              "      <td>12</td>\n",
              "      <td>0.60</td>\n",
              "    </tr>\n",
              "    <tr>\n",
              "      <th>5</th>\n",
              "      <td>verified</td>\n",
              "      <td>0</td>\n",
              "      <td>0.00</td>\n",
              "    </tr>\n",
              "    <tr>\n",
              "      <th>6</th>\n",
              "      <td>author</td>\n",
              "      <td>0</td>\n",
              "      <td>0.00</td>\n",
              "    </tr>\n",
              "    <tr>\n",
              "      <th>7</th>\n",
              "      <td>rating</td>\n",
              "      <td>0</td>\n",
              "      <td>0.00</td>\n",
              "    </tr>\n",
              "    <tr>\n",
              "      <th>8</th>\n",
              "      <td>product</td>\n",
              "      <td>0</td>\n",
              "      <td>0.00</td>\n",
              "    </tr>\n",
              "    <tr>\n",
              "      <th>9</th>\n",
              "      <td>url</td>\n",
              "      <td>0</td>\n",
              "      <td>0.00</td>\n",
              "    </tr>\n",
              "  </tbody>\n",
              "</table>\n",
              "</div>"
            ],
            "text/plain": [
              "    Columns  No. Null values  Percentage\n",
              "0     title                0        0.00\n",
              "1   content                0        0.00\n",
              "2      date                0        0.00\n",
              "3   variant                9        0.45\n",
              "4    images               12        0.60\n",
              "5  verified                0        0.00\n",
              "6    author                0        0.00\n",
              "7    rating                0        0.00\n",
              "8   product                0        0.00\n",
              "9       url                0        0.00"
            ]
          },
          "metadata": {
            "tags": []
          },
          "execution_count": 19
        }
      ]
    },
    {
      "cell_type": "code",
      "metadata": {
        "id": "EbW9QydBLwqR"
      },
      "source": [
        "import seaborn as sns\n",
        "import matplotlib.pyplot as plt\n",
        "%matplotlib inline "
      ],
      "execution_count": 20,
      "outputs": []
    },
    {
      "cell_type": "code",
      "metadata": {
        "id": "TPHUFeotOnCa"
      },
      "source": [
        ""
      ],
      "execution_count": 20,
      "outputs": []
    },
    {
      "cell_type": "code",
      "metadata": {
        "id": "UXPr2XCeN45f"
      },
      "source": [
        "data['date']= pd.to_datetime(data['date']) "
      ],
      "execution_count": 21,
      "outputs": []
    },
    {
      "cell_type": "code",
      "metadata": {
        "id": "T833861pNpWK"
      },
      "source": [
        "x=data['rating']\n",
        "x=pd.to_numeric(x)"
      ],
      "execution_count": 22,
      "outputs": []
    },
    {
      "cell_type": "code",
      "metadata": {
        "id": "chyr5ER0MMkn",
        "outputId": "cb9312ce-c23c-459b-fa8a-efbcf4a97aa9",
        "colab": {
          "base_uri": "https://localhost:8080/",
          "height": 567
        }
      },
      "source": [
        "plt.figure(figsize=(10,8), )\n",
        "plt.title('ratings Distribution')\n",
        "\n",
        "sns.distplot(x,color='red');"
      ],
      "execution_count": 23,
      "outputs": [
        {
          "output_type": "stream",
          "text": [
            "/usr/local/lib/python3.6/dist-packages/seaborn/distributions.py:2551: FutureWarning: `distplot` is a deprecated function and will be removed in a future version. Please adapt your code to use either `displot` (a figure-level function with similar flexibility) or `histplot` (an axes-level function for histograms).\n",
            "  warnings.warn(msg, FutureWarning)\n"
          ],
          "name": "stderr"
        },
        {
          "output_type": "display_data",
          "data": {
            "image/png": "[encoded data removed]",
            "text/plain": [
              "<Figure size 720x576 with 1 Axes>"
            ]
          },
          "metadata": {
            "tags": [],
            "needs_background": "light"
          }
        }
      ]
    },
    {
      "cell_type": "code",
      "metadata": {
        "id": "u_HNLE3DMgq9",
        "outputId": "557949c3-b88a-4bd1-d805-fdfb81e1e699",
        "colab": {
          "base_uri": "https://localhost:8080/",
          "height": 34
        }
      },
      "source": [
        "type(x)"
      ],
      "execution_count": 24,
      "outputs": [
        {
          "output_type": "execute_result",
          "data": {
            "text/plain": [
              "pandas.core.series.Series"
            ]
          },
          "metadata": {
            "tags": []
          },
          "execution_count": 24
        }
      ]
    },
    {
      "cell_type": "code",
      "metadata": {
        "id": "Ril8_t5pMwkO",
        "outputId": "a5336c80-739c-4a28-abac-eb526878f4cf",
        "colab": {
          "base_uri": "https://localhost:8080/",
          "height": 484
        }
      },
      "source": [
        "fig, ax = plt.subplots(figsize=(16,8))\n",
        "ax.scatter(data['rating'], data['date'])\n",
        "ax.set_xlabel('Amount')\n",
        "ax.set_ylabel('Time')\n",
        "plt.show()"
      ],
      "execution_count": 25,
      "outputs": [
        {
          "output_type": "display_data",
          "data": {
            "image/png": "[encoded data removed]",
            "text/plain": [
              "<Figure size 1152x576 with 1 Axes>"
            ]
          },
          "metadata": {
            "tags": [],
            "needs_background": "light"
          }
        }
      ]
    },
    {
      "cell_type": "code",
      "metadata": {
        "id": "FCbEtzwsM6Bw"
      },
      "source": [
        ""
      ],
      "execution_count": 25,
      "outputs": []
    },
    {
      "cell_type": "code",
      "metadata": {
        "id": "RuBQ1Vj-NG9F"
      },
      "source": [
        ""
      ],
      "execution_count": 25,
      "outputs": []
    }
  ]
}