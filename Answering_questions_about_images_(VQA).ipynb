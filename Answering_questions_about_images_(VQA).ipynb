{
  "nbformat": 4,
  "nbformat_minor": 0,
  "metadata": {
    "colab": {
      "name": " Answering questions about images (VQA).ipynb",
      "provenance": [],
      "authorship_tag": "ABX9TyPHDPxAP5prFrbtgTXTjV8O",
      "include_colab_link": true
    },
    "kernelspec": {
      "name": "python3",
      "display_name": "Python 3"
    }
  },
  "cells": [
    {
      "cell_type": "markdown",
      "metadata": {
        "id": "view-in-github",
        "colab_type": "text"
      },
      "source": [
        "<a href=\"https://colab.research.google.com/github/mahima-c/deep-learning/blob/main/Answering_questions_about_images_(VQA).ipynb\" target=\"_parent\"><img src=\"https://colab.research.google.com/assets/colab-badge.svg\" alt=\"Open In Colab\"/></a>"
      ]
    },
    {
      "cell_type": "markdown",
      "metadata": {
        "id": "XbW1In7Dd1w_"
      },
      "source": [
        "Answering questions about images (VQA)\r\n"
      ]
    },
    {
      "cell_type": "markdown",
      "metadata": {
        "id": "s9Fy1XD5eCSA"
      },
      "source": [
        " you can build a model that is the combination of a CNN and a RNN (discussed in Chapter 9, Autoencoders) and start experimenting. For instance, a CNN can be something like this code fragment, which takes an image with three channels (224×224) as input and produces a feature vector for the image:"
      ]
    },
    {
      "cell_type": "code",
      "metadata": {
        "colab": {
          "base_uri": "https://localhost:8080/"
        },
        "id": "jmGdKEYxdybO",
        "outputId": "072551ea-2870-4faa-888a-75407700a9ef"
      },
      "source": [
        "import tensorflow as tf\r\n",
        "from tensorflow.keras import layers, models\r\n",
        "# IMAGE\r\n",
        "#\r\n",
        "# Define CNN for visual processing\r\n",
        "cnn_model = models.Sequential()\r\n",
        "cnn_model.add(layers.Conv2D(64, (3, 3), activation='relu', padding='same', input_shape=(224, 224, 3)))\r\n",
        "cnn_model.add(layers.Conv2D(64, (3, 3), activation='relu'))\r\n",
        "cnn_model.add(layers.MaxPooling2D(2, 2))\r\n",
        "cnn_model.add(layers.Conv2D(128, (3, 3), activation='relu', padding='same'))\r\n",
        "cnn_model.add(layers.Conv2D(128, (3, 3), activation='relu'))\r\n",
        "cnn_model.add(layers.MaxPooling2D(2, 2))\r\n",
        "cnn_model.add(layers.Conv2D(256, (3, 3), activation='relu', padding='same'))\r\n",
        "cnn_model.add(layers.Conv2D(256, (3, 3), activation='relu'))\r\n",
        "cnn_model.add(layers.Conv2D(256, (3, 3), activation='relu'))\r\n",
        "cnn_model.add(layers.MaxPooling2D(2, 2))\r\n",
        "cnn_model.add(layers.Flatten())\r\n",
        "cnn_model.summary()\r\n",
        "# define the visual_model with proper input\r\n",
        "image_input = layers.Input(shape=(224, 224, 3))\r\n",
        "visual_model = cnn_model(image_input)"
      ],
      "execution_count": 2,
      "outputs": [
        {
          "output_type": "stream",
          "text": [
            "Model: \"sequential\"\n",
            "_________________________________________________________________\n",
            "Layer (type)                 Output Shape              Param #   \n",
            "=================================================================\n",
            "conv2d (Conv2D)              (None, 224, 224, 64)      1792      \n",
            "_________________________________________________________________\n",
            "conv2d_1 (Conv2D)            (None, 222, 222, 64)      36928     \n",
            "_________________________________________________________________\n",
            "max_pooling2d (MaxPooling2D) (None, 111, 111, 64)      0         \n",
            "_________________________________________________________________\n",
            "conv2d_2 (Conv2D)            (None, 111, 111, 128)     73856     \n",
            "_________________________________________________________________\n",
            "conv2d_3 (Conv2D)            (None, 109, 109, 128)     147584    \n",
            "_________________________________________________________________\n",
            "max_pooling2d_1 (MaxPooling2 (None, 54, 54, 128)       0         \n",
            "_________________________________________________________________\n",
            "conv2d_4 (Conv2D)            (None, 54, 54, 256)       295168    \n",
            "_________________________________________________________________\n",
            "conv2d_5 (Conv2D)            (None, 52, 52, 256)       590080    \n",
            "_________________________________________________________________\n",
            "conv2d_6 (Conv2D)            (None, 50, 50, 256)       590080    \n",
            "_________________________________________________________________\n",
            "max_pooling2d_2 (MaxPooling2 (None, 25, 25, 256)       0         \n",
            "_________________________________________________________________\n",
            "flatten (Flatten)            (None, 160000)            0         \n",
            "=================================================================\n",
            "Total params: 1,735,488\n",
            "Trainable params: 1,735,488\n",
            "Non-trainable params: 0\n",
            "_________________________________________________________________\n"
          ],
          "name": "stdout"
        }
      ]
    },
    {
      "cell_type": "code",
      "metadata": {
        "id": "3RgNxHLEeIfr"
      },
      "source": [
        "# TEXT\r\n",
        "#\r\n",
        "# define the RNN model for text processing\r\n",
        "question_input = layers.Input(shape=(27,), dtype='int32')\r\n",
        "emdedding = layers.Embedding(input_dim=10000, output_dim=256, input_length=27)(question_input)\r\n",
        "encoded_question = layers.LSTM(256)(emdedding)"
      ],
      "execution_count": 3,
      "outputs": []
    },
    {
      "cell_type": "markdown",
      "metadata": {
        "id": "fKO_hUUmeSBp"
      },
      "source": [
        "Then the two feature vectors (one for the image, and one for the text) are combined into one joint vector that is provided as input to a dense network to produce the combined network:"
      ]
    },
    {
      "cell_type": "code",
      "metadata": {
        "colab": {
          "base_uri": "https://localhost:8080/"
        },
        "id": "vTnLZh86eRKO",
        "outputId": "b7ba9c25-bf09-401e-87ee-7e028ade1db8"
      },
      "source": [
        "# combine the encoded question and visual model\r\n",
        "merged = layers.concatenate([encoded_question, visual_model])\r\n",
        "# attach a dense network at the end\r\n",
        "output = layers.Dense(1000, activation='softmax')(merged)\r\n",
        "# get the combined model\r\n",
        "vqa_model = models.Model(inputs=[image_input, question_input], outputs=output)\r\n",
        "vqa_model.summary()"
      ],
      "execution_count": 4,
      "outputs": [
        {
          "output_type": "stream",
          "text": [
            "Model: \"model\"\n",
            "__________________________________________________________________________________________________\n",
            "Layer (type)                    Output Shape         Param #     Connected to                     \n",
            "==================================================================================================\n",
            "input_2 (InputLayer)            [(None, 27)]         0                                            \n",
            "__________________________________________________________________________________________________\n",
            "embedding (Embedding)           (None, 27, 256)      2560000     input_2[0][0]                    \n",
            "__________________________________________________________________________________________________\n",
            "input_1 (InputLayer)            [(None, 224, 224, 3) 0                                            \n",
            "__________________________________________________________________________________________________\n",
            "lstm (LSTM)                     (None, 256)          525312      embedding[0][0]                  \n",
            "__________________________________________________________________________________________________\n",
            "sequential (Sequential)         (None, 160000)       1735488     input_1[0][0]                    \n",
            "__________________________________________________________________________________________________\n",
            "concatenate (Concatenate)       (None, 160256)       0           lstm[0][0]                       \n",
            "                                                                 sequential[0][0]                 \n",
            "__________________________________________________________________________________________________\n",
            "dense (Dense)                   (None, 1000)         160257000   concatenate[0][0]                \n",
            "==================================================================================================\n",
            "Total params: 165,077,800\n",
            "Trainable params: 165,077,800\n",
            "Non-trainable params: 0\n",
            "__________________________________________________________________________________________________\n"
          ],
          "name": "stdout"
        }
      ]
    },
    {
      "cell_type": "code",
      "metadata": {
        "id": "G_eCQW82pGjO"
      },
      "source": [
        "from tensorflow.keras.optimizers import Adam\r\n",
        "\r\n",
        "vqa_model.compile(\r\n",
        "  Adam(lr=2e-4), # somewhat arbitrarily chosen\r\n",
        "  loss='categorical_crossentropy',\r\n",
        "  metrics=['accuracy'],\r\n",
        ")"
      ],
      "execution_count": 5,
      "outputs": []
    },
    {
      "cell_type": "markdown",
      "metadata": {
        "id": "gGGyGlj524Na"
      },
      "source": [
        "play with data\r\n"
      ]
    },
    {
      "cell_type": "code",
      "metadata": {
        "colab": {
          "base_uri": "https://localhost:8080/"
        },
        "id": "ufm827kH0hWJ",
        "outputId": "6654db42-f84f-493b-a634-88d612c17c37"
      },
      "source": [
        "from easy_vqa import get_train_questions, get_test_questions\r\n",
        "\r\n",
        "train_questions, train_answers, train_image_ids = get_train_questions()\r\n",
        "test_questions, test_answers, test_image_ids = get_test_questions()\r\n",
        "\r\n",
        "# Question 0 is at index 0 for all 3 arrays:\r\n",
        "print(train_questions[0]) # what shape does the image contain?\r\n",
        "print(train_answers[0])   # circle\r\n",
        "print(train_image_ids[0]) # 0"
      ],
      "execution_count": 6,
      "outputs": [
        {
          "output_type": "stream",
          "text": [
            "what is the blue shape?\n",
            "rectangle\n",
            "0\n"
          ],
          "name": "stdout"
        }
      ]
    },
    {
      "cell_type": "code",
      "metadata": {
        "id": "OBSSLV2z0haG"
      },
      "source": [
        "from easy_vqa import get_train_image_paths, get_test_image_paths\r\n",
        "\r\n",
        "train_image_paths = get_train_image_paths()\r\n",
        "test_image_paths = get_test_image_paths()\r\n"
      ],
      "execution_count": 7,
      "outputs": []
    },
    {
      "cell_type": "code",
      "metadata": {
        "id": "2oeGIQZ00hdg"
      },
      "source": [
        "# print(train_image_paths[0])\r\n",
        "import cv2\r\n",
        "# load_img(train_image_paths[0]).reshape()\r\n",
        "img=cv2.imread(train_image_paths[0])\r\n",
        "resized_image = cv2.resize(img, (224,224)) \r\n",
        "# print(resized_image.shape)\r\n"
      ],
      "execution_count": 8,
      "outputs": []
    },
    {
      "cell_type": "markdown",
      "metadata": {
        "id": "gKnXBKpGjeSH"
      },
      "source": [
        "The Data Processing"
      ]
    },
    {
      "cell_type": "code",
      "metadata": {
        "colab": {
          "base_uri": "https://localhost:8080/"
        },
        "id": "iW4jByBueRMr",
        "outputId": "3344ee57-0dfa-4e4b-d351-84d985fbdeef"
      },
      "source": [
        "from easy_vqa import get_train_questions, get_test_questions, get_answers\r\n",
        "\r\n",
        "# Read question data\r\n",
        "# (we already did this in the BOW section, remember?)\r\n",
        "train_qs, train_answers, train_image_ids = get_train_questions()\r\n",
        "test_qs, test_answers, test_image_ids = get_test_questions()\r\n",
        "\r\n",
        "# Read answer data\r\n",
        "all_answers = get_answers()\r\n",
        "num_answers = len(all_answers)\r\n",
        "num_answers"
      ],
      "execution_count": 9,
      "outputs": [
        {
          "output_type": "execute_result",
          "data": {
            "text/plain": [
              "13"
            ]
          },
          "metadata": {
            "tags": []
          },
          "execution_count": 9
        }
      ]
    },
    {
      "cell_type": "code",
      "metadata": {
        "id": "5Ih-NLPUeRPS"
      },
      "source": [
        "from easy_vqa import get_train_image_paths, get_test_image_paths\r\n",
        "from tensorflow.keras.preprocessing.image import load_img, img_to_array\r\n",
        "import cv2\r\n",
        "\r\n",
        "\r\n",
        "def load_and_proccess_image(image_path):\r\n",
        "  # Load image, then scale and shift pixel values to [-0.5, 0.5]\r\n",
        "  # im = img_to_array(load_img(image_path))\r\n",
        "  img=cv2.imread(image_path)\r\n",
        "  im = cv2.resize(img, (224,224)) \r\n",
        "# print(resized_image.shape)\r\n",
        "\r\n",
        "  return im / 255 - 0.5\r\n",
        "\r\n",
        "def read_images(paths):\r\n",
        "  # paths is a dict mapping image ID to image path\r\n",
        "  # Returns a dict mapping image ID to the processed image\r\n",
        "  ims = {}\r\n",
        "  for image_id, image_path in paths.items():\r\n",
        "    ims[image_id] = load_and_proccess_image(image_path)\r\n",
        "  return ims\r\n",
        "\r\n",
        "train_ims = read_images(get_train_image_paths())\r\n",
        "test_ims = read_images(get_test_image_paths())"
      ],
      "execution_count": 10,
      "outputs": []
    },
    {
      "cell_type": "code",
      "metadata": {
        "colab": {
          "base_uri": "https://localhost:8080/"
        },
        "id": "1rSVH-fG3nwk",
        "outputId": "8bdc6337-fbd3-441d-fdf3-2f94222de277"
      },
      "source": [
        "train_ims[1].shape"
      ],
      "execution_count": 11,
      "outputs": [
        {
          "output_type": "execute_result",
          "data": {
            "text/plain": [
              "(224, 224, 3)"
            ]
          },
          "metadata": {
            "tags": []
          },
          "execution_count": 11
        }
      ]
    },
    {
      "cell_type": "markdown",
      "metadata": {
        "id": "ZJ2q7zphoOOc"
      },
      "source": [
        "Then, we’ll create the actual inputs and expected outputs we’ll use to train our model:"
      ]
    },
    {
      "cell_type": "code",
      "metadata": {
        "id": "4o1wYxmjoOvX"
      },
      "source": [
        "from tensorflow.keras.utils import to_categorical\r\n",
        "\r\n",
        "# Create model input images\r\n",
        "train_X_ims = [train_ims[id] for id in train_image_ids]\r\n",
        "test_X_ims = [test_ims[id] for id in test_image_ids]\r\n",
        "\r\n",
        "# Create model outputs\r\n",
        "train_answer_indices = [all_answers.index(a) for a in train_answers]\r\n",
        "test_answer_indices = [all_answers.index(a) for a in test_answers]\r\n",
        "train_Y = to_categorical(train_answer_indices)\r\n",
        "test_Y = to_categorical(test_answer_indices)"
      ],
      "execution_count": 12,
      "outputs": []
    },
    {
      "cell_type": "code",
      "metadata": {
        "colab": {
          "base_uri": "https://localhost:8080/"
        },
        "id": "1LrSQRzuxUxL",
        "outputId": "fb5fee7a-0fb0-4046-d27f-d76a4618461e"
      },
      "source": [
        "train_X_ims[10].shape"
      ],
      "execution_count": 13,
      "outputs": [
        {
          "output_type": "execute_result",
          "data": {
            "text/plain": [
              "(224, 224, 3)"
            ]
          },
          "metadata": {
            "tags": []
          },
          "execution_count": 13
        }
      ]
    },
    {
      "cell_type": "code",
      "metadata": {
        "id": "O9EP9Qu_tfzI"
      },
      "source": [
        "from easy_vqa import get_train_questions, get_test_questions\r\n",
        "from tensorflow.keras.preprocessing.text import Tokenizer\r\n",
        "\r\n",
        "# Read questions\r\n",
        "# train_qs and test_qs are just arrays of question strings\r\n",
        "# (we'll use the other variables later)\r\n",
        "train_qs, _, _ = get_train_questions()\r\n",
        "test_qs, _, _ = get_test_questions()\r\n",
        "\r\n",
        "# Fit tokenizer on the training questions\r\n",
        "tokenizer = Tokenizer()\r\n",
        "tokenizer.fit_on_texts(train_qs)\r\n",
        "\r\n",
        "# Convert questions to BOW\r\n",
        "train_X_seqs = tokenizer.texts_to_matrix(train_qs)\r\n",
        "test_X_seqs = tokenizer.texts_to_matrix(test_qs)\r\n"
      ],
      "execution_count": 14,
      "outputs": []
    },
    {
      "cell_type": "code",
      "metadata": {
        "colab": {
          "base_uri": "https://localhost:8080/"
        },
        "id": "u5juRW2w4tGE",
        "outputId": "f02613c7-27ab-4d7e-c65c-fd21e7a43311"
      },
      "source": [
        "len(train_X_seqs[1])"
      ],
      "execution_count": 15,
      "outputs": [
        {
          "output_type": "execute_result",
          "data": {
            "text/plain": [
              "27"
            ]
          },
          "metadata": {
            "tags": []
          },
          "execution_count": 15
        }
      ]
    },
    {
      "cell_type": "code",
      "metadata": {
        "id": "OgDWj1FpoO0f"
      },
      "source": [
        "from tensorflow.keras.callbacks import ModelCheckpoint\r\n",
        "\r\n",
        "checkpoint = ModelCheckpoint('model.h5', save_best_only=True)"
      ],
      "execution_count": 15,
      "outputs": []
    },
    {
      "cell_type": "code",
      "metadata": {
        "id": "ZNKbL9XPoO3J"
      },
      "source": [
        "# Train the model!\r\n",
        "\r\n",
        "vqa_model.fit(\r\n",
        "   # Reminder: train_X_seqs is from this post's BOW section\r\n",
        "  [train_X_ims, train_X_seqs],\r\n",
        "  train_Y,\r\n",
        "  validation_data=([test_X_ims, test_X_seqs], test_Y),\r\n",
        "  shuffle=True,\r\n",
        "  epochs=3, # somewhat arbitrary, try more epochs if you have time!\r\n",
        "  callbacks=[checkpoint],\r\n",
        ")"
      ],
      "execution_count": null,
      "outputs": []
    },
    {
      "cell_type": "code",
      "metadata": {
        "id": "-qv7nUe4tN4S"
      },
      "source": [
        "pip install easy-vqa\r\n",
        "\r\n"
      ],
      "execution_count": null,
      "outputs": []
    },
    {
      "cell_type": "code",
      "metadata": {
        "id": "PqiCcnZHtN8u"
      },
      "source": [
        ""
      ],
      "execution_count": null,
      "outputs": []
    }
  ]
}