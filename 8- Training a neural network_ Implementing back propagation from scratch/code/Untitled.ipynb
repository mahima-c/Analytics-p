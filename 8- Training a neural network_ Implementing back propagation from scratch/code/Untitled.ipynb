{
 "cells": [
  {
   "cell_type": "code",
   "execution_count": null,
   "metadata": {},
   "outputs": [],
   "source": [
    "import numpy as np\n",
    "\n",
    "# save activation and derivative\n",
    "# implement backpropagation"
   ]
  },
  {
   "cell_type": "code",
   "execution_count": null,
   "metadata": {},
   "outputs": [],
   "source": [
    "class MLP:\n",
    "    def __init__(self,num_inputs=3,num_hidden=[3,5],num_outputs=2):\n",
    "        self.num_inputs=num_inputs\n",
    "        self.num_hidden=num_hidden\n",
    "        self.num_outputs=num_outputs\n",
    "         # create a generic representation of the layers    \n",
    "        layers = [num_inputs] + hidden_layers + [num_outputs]\n",
    "        \n",
    "        # create random connection weights for the layers\n",
    "        weights = []\n",
    "        for i in range(len(layers)-1):\n",
    "            w = np.random.rand(layers[i], layers[i+1])\n",
    "            weights.append(w)\n",
    "        self.weights = weights\n",
    "        # save activations per layer\n",
    "        activation=[]\n",
    "        for i in range(len(layers)):\n",
    "            a=np.zeros(layer[1])#create list of neuron in i th layer  with staring with 0\n",
    "            activation.append(a)  \n",
    "        self.activations= activations\n",
    "        \n",
    "        # save derivatives per layer\n",
    "        derivatives = []\n",
    "        for i in range(len(layers) - 1):\n",
    "            d = np.zeros((layers[i], layers[i + 1]))\n",
    "            derivatives.append(d)\n",
    "        self.derivatives = derivatives\n",
    "        \n",
    "    def back_propagate(self,erro)    \n",
    "        \n",
    "        \n",
    "    def forward_propagate(self, inputs):\n",
    "        \"\"\"Computes forward propagation of the network based on input signals.\n",
    "\n",
    "        Args:\n",
    "            inputs (ndarray): Input signals\n",
    "        Returns:\n",
    "            activations (ndarray): Output values \"\"\"\n",
    "        # the input layer activation is just the input itself\n",
    "        activations = inputs\n",
    "        self.activations[0]=inputs\n",
    "\n",
    "        # iterate through the network layers\n",
    "        for w in self.weights:\n",
    "\n",
    "            # calculate matrix multiplication between previous activation and weight matrix\n",
    "            net_inputs = np.dot(activations, w)\n",
    "\n",
    "            # apply sigmoid activation function\n",
    "            activations = self._sigmoid(net_inputs)\n",
    "            \n",
    "            \n",
    "            # save the activations for backpropogation\n",
    "            self.activations[i + 1] = activations\n",
    "#a^3=s(h^3)\n",
    "# h3=w2*a2\n",
    "\n",
    "        # return output layer activation\n",
    "        return activations\n",
    "\n",
    "    def _sigmoid(self,x):\n",
    "        return 1 + (1+np.exp(-x))\n",
    "        \n",
    "        "
   ]
  }
 ],
 "metadata": {
  "kernelspec": {
   "display_name": "Python 3",
   "language": "python",
   "name": "python3"
  },
  "language_info": {
   "codemirror_mode": {
    "name": "ipython",
    "version": 3
   },
   "file_extension": ".py",
   "mimetype": "text/x-python",
   "name": "python",
   "nbconvert_exporter": "python",
   "pygments_lexer": "ipython3",
   "version": "3.8.5"
  }
 },
 "nbformat": 4,
 "nbformat_minor": 4
}
