{
  "nbformat": 4,
  "nbformat_minor": 0,
  "metadata": {
    "colab": {
      "name": "6.2DCGAN.ipynb",
      "provenance": [],
      "authorship_tag": "ABX9TyP+Gun7Cu4qwAa33uDnQavb",
      "include_colab_link": true
    },
    "kernelspec": {
      "name": "python3",
      "display_name": "Python 3"
    }
  },
  "cells": [
    {
      "cell_type": "markdown",
      "metadata": {
        "id": "view-in-github",
        "colab_type": "text"
      },
      "source": [
        "<a href=\"https://colab.research.google.com/github/mahima-c/deep-learning/blob/main/6_2DCGAN.ipynb\" target=\"_parent\"><img src=\"https://colab.research.google.com/assets/colab-badge.svg\" alt=\"Open In Colab\"/></a>"
      ]
    },
    {
      "cell_type": "markdown",
      "metadata": {
        "id": "jqv1tnm_AB5j"
      },
      "source": [
        "**DCGAN for MNIST digits**\r\n"
      ]
    },
    {
      "cell_type": "code",
      "metadata": {
        "id": "rbvHIo9Q_-pF"
      },
      "source": [
        "from tensorflow.keras.datasets import mnist\r\n",
        "from tensorflow.keras.layers import Input, Dense, Reshape, Flatten, Dropout\r\n",
        "from tensorflow.keras.layers import BatchNormalization, Activation, ZeroPadding2D\r\n",
        "from tensorflow.keras.layers import LeakyReLU\r\n",
        "from tensorflow.keras.layers import UpSampling2D, Conv2D\r\n",
        "from tensorflow.keras.models import Sequential, Model\r\n",
        "from tensorflow.keras.optimizers import Adam\r\n",
        "\r\n",
        "import matplotlib.pyplot as plt\r\n",
        "\r\n",
        "import sys\r\n",
        "\r\n",
        "import numpy as np"
      ],
      "execution_count": 1,
      "outputs": []
    },
    {
      "cell_type": "markdown",
      "metadata": {
        "id": "2IjKgeztIAgN"
      },
      "source": [
        "The GAN is trained in the same manner as before; first random noise is fed to the generator. The output of the generator is added with real images to initially train the discriminator, and then the generator is trained to give an image that can fool the discriminator. The process is repeated for the next batch of images. The GAN takes between a few hundred to thousands of epochs to train:"
      ]
    },
    {
      "cell_type": "code",
      "metadata": {
        "id": "8EryhgWACVtl"
      },
      "source": [
        "class DCGAN():\r\n",
        "    def __init__(self, rows, cols, channels, z = 10):\r\n",
        "        # Input shape\r\n",
        "        self.img_rows = rows\r\n",
        "        self.img_cols = cols\r\n",
        "        self.channels = channels\r\n",
        "        self.img_shape = (self.img_rows, self.img_cols, self.channels)\r\n",
        "        self.latent_dim = z\r\n",
        "\r\n",
        "        optimizer = Adam(0.0002, 0.5)\r\n",
        "\r\n",
        "        # Build and compile the discriminator\r\n",
        "        self.discriminator = self.build_discriminator()\r\n",
        "        self.discriminator.compile(loss='binary_crossentropy',\r\n",
        "            optimizer=optimizer,\r\n",
        "            metrics=['accuracy'])\r\n",
        "\r\n",
        "        # Build the generator\r\n",
        "        self.generator = self.build_generator()\r\n",
        "\r\n",
        "        # The generator takes noise as input and generates imgs\r\n",
        "        z = Input(shape=(self.latent_dim,))\r\n",
        "        img = self.generator(z)\r\n",
        "\r\n",
        "        # For the combined model we will only train the generator\r\n",
        "        self.discriminator.trainable = False\r\n",
        "\r\n",
        "        # The discriminator takes generated images as input and determines validity\r\n",
        "        valid = self.discriminator(img)\r\n",
        "\r\n",
        "        # The combined model  (stacked generator and discriminator)\r\n",
        "        # Trains the generator to fool the discriminator\r\n",
        "        self.combined = Model(z, valid)\r\n",
        "        self.combined.compile(loss='binary_crossentropy', optimizer=optimizer)\r\n",
        "\r\n",
        "    def build_generator(self):\r\n",
        "\r\n",
        "        model = Sequential()\r\n",
        "\r\n",
        "        model.add(Dense(128 * 7 * 7, activation=\"relu\", input_dim=self.latent_dim))\r\n",
        "        model.add(Reshape((7, 7, 128)))\r\n",
        "        model.add(UpSampling2D())\r\n",
        "        model.add(Conv2D(128, kernel_size=3, padding=\"same\"))\r\n",
        "        model.add(BatchNormalization(momentum=0.8))\r\n",
        "        model.add(Activation(\"relu\"))\r\n",
        "        model.add(UpSampling2D())\r\n",
        "        model.add(Conv2D(64, kernel_size=3, padding=\"same\"))\r\n",
        "        model.add(BatchNormalization(momentum=0.8))\r\n",
        "        model.add(Activation(\"relu\"))\r\n",
        "        model.add(Conv2D(self.channels, kernel_size=3, padding=\"same\"))\r\n",
        "        model.add(Activation(\"tanh\"))\r\n",
        "\r\n",
        "        model.summary()\r\n",
        "\r\n",
        "        noise = Input(shape=(self.latent_dim,))\r\n",
        "        img = model(noise)\r\n",
        "\r\n",
        "        return Model(noise, img)\r\n",
        "\r\n",
        "    def build_discriminator(self):\r\n",
        "\r\n",
        "        model = Sequential()\r\n",
        "\r\n",
        "        model.add(Conv2D(32, kernel_size=3, strides=2, input_shape=self.img_shape, padding=\"same\"))\r\n",
        "        model.add(LeakyReLU(alpha=0.2))\r\n",
        "        model.add(Dropout(0.25))\r\n",
        "        model.add(Conv2D(64, kernel_size=3, strides=2, padding=\"same\"))\r\n",
        "        model.add(ZeroPadding2D(padding=((0,1),(0,1))))\r\n",
        "        model.add(BatchNormalization(momentum=0.8))\r\n",
        "        model.add(LeakyReLU(alpha=0.2))\r\n",
        "        model.add(Dropout(0.25))\r\n",
        "        model.add(Conv2D(128, kernel_size=3, strides=2, padding=\"same\"))\r\n",
        "        model.add(BatchNormalization(momentum=0.8))\r\n",
        "        model.add(LeakyReLU(alpha=0.2))\r\n",
        "        model.add(Dropout(0.25))\r\n",
        "        model.add(Conv2D(256, kernel_size=3, strides=1, padding=\"same\"))\r\n",
        "        model.add(BatchNormalization(momentum=0.8))\r\n",
        "        model.add(LeakyReLU(alpha=0.2))\r\n",
        "        model.add(Dropout(0.25))\r\n",
        "        model.add(Flatten())\r\n",
        "        model.add(Dense(1, activation='sigmoid'))\r\n",
        "\r\n",
        "        model.summary()\r\n",
        "\r\n",
        "        img = Input(shape=self.img_shape)\r\n",
        "        validity = model(img)\r\n",
        "\r\n",
        "        return Model(img, validity)\r\n",
        "\r\n",
        "    def train(self, epochs, batch_size=256, save_interval=50):\r\n",
        "\r\n",
        "        # Load the dataset\r\n",
        "        (X_train, _), (_, _) = mnist.load_data()\r\n",
        "\r\n",
        "        # Rescale -1 to 1\r\n",
        "        X_train = X_train / 127.5 - 1.\r\n",
        "        X_train = np.expand_dims(X_train, axis=3)\r\n",
        "\r\n",
        "        # Adversarial ground truths\r\n",
        "        valid = np.ones((batch_size, 1))\r\n",
        "        fake = np.zeros((batch_size, 1))\r\n",
        "\r\n",
        "        for epoch in range(epochs):\r\n",
        "\r\n",
        "            # ---------------------\r\n",
        "            #  Train Discriminator\r\n",
        "            # ---------------------\r\n",
        "\r\n",
        "            # Select a random half of images\r\n",
        "            idx = np.random.randint(0, X_train.shape[0], batch_size)\r\n",
        "            imgs = X_train[idx]\r\n",
        "\r\n",
        "            # Sample noise and generate a batch of new images\r\n",
        "            noise = np.random.normal(0, 1, (batch_size, self.latent_dim))\r\n",
        "            gen_imgs = self.generator.predict(noise)\r\n",
        "\r\n",
        "            # Train the discriminator (real classified as ones and generated as zeros)\r\n",
        "            d_loss_real = self.discriminator.train_on_batch(imgs, valid)\r\n",
        "            d_loss_fake = self.discriminator.train_on_batch(gen_imgs, fake)\r\n",
        "            d_loss = 0.5 * np.add(d_loss_real, d_loss_fake)\r\n",
        "\r\n",
        "            # ---------------------\r\n",
        "            #  Train Generator\r\n",
        "            # ---------------------\r\n",
        "\r\n",
        "            # Train the generator (wants discriminator to mistake images as real)\r\n",
        "            g_loss = self.combined.train_on_batch(noise, valid)\r\n",
        "\r\n",
        "            # Plot the progress\r\n",
        "            print (\"%d [D loss: %f, acc.: %.2f%%] [G loss: %f]\" % (epoch, d_loss[0], 100*d_loss[1], g_loss))\r\n",
        "\r\n",
        "            # If at save interval => save generated image samples\r\n",
        "            if epoch % save_interval == 0:\r\n",
        "                self.save_imgs(epoch)\r\n",
        "\r\n",
        "    def save_imgs(self, epoch):\r\n",
        "        r, c = 5, 5\r\n",
        "        noise = np.random.normal(0, 1, (r * c, self.latent_dim))\r\n",
        "        gen_imgs = self.generator.predict(noise)\r\n",
        "\r\n",
        "        # Rescale images 0 - 1\r\n",
        "        gen_imgs = 0.5 * gen_imgs + 0.5\r\n",
        "\r\n",
        "        fig, axs = plt.subplots(r, c)\r\n",
        "        cnt = 0\r\n",
        "        for i in range(r):\r\n",
        "            for j in range(c):\r\n",
        "                axs[i,j].imshow(gen_imgs[cnt, :,:,0], cmap='gray')\r\n",
        "                axs[i,j].axis('off')\r\n",
        "                cnt += 1\r\n",
        "        fig.savefig(\"images/dcgan_mnist_%d.png\" % epoch)\r\n",
        "        plt.close()"
      ],
      "execution_count": 2,
      "outputs": []
    },
    {
      "cell_type": "markdown",
      "metadata": {
        "id": "d6Ia-O3PIFek"
      },
      "source": [
        "Let us now train our GAN:\r\n",
        "\r\n"
      ]
    },
    {
      "cell_type": "code",
      "metadata": {
        "id": "MH2Dxv3TIF-p"
      },
      "source": [
        "dcgan = DCGAN(28,28,1)\r\n",
        "dcgan.train(epochs=4000, batch_size=32, save_interval=50)"
      ],
      "execution_count": null,
      "outputs": []
    },
    {
      "cell_type": "code",
      "metadata": {
        "id": "jk74kc2oCVwU"
      },
      "source": [
        ""
      ],
      "execution_count": null,
      "outputs": []
    }
  ]
}